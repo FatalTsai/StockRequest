{
 "cells": [
  {
   "cell_type": "code",
   "execution_count": 7,
   "metadata": {},
   "outputs": [
    {
     "name": "stdout",
     "output_type": "stream",
     "text": [
      "股票代號 : 1234\n",
      "['1234黑松'] ['31.25'] ['89']\n"
     ]
    }
   ],
   "source": [
    "import requests  #啟動網路 url 取得網頁內容\n",
    "\n",
    "import datetime\n",
    "\n",
    "import time\n",
    "\n",
    "from lxml import etree  #建立HTML/XML 樹狀圖 支援Xpath\n",
    "\n",
    "\n",
    "\n",
    "stockNum = input('股票代號 : ')\n",
    "\n",
    "\n",
    "\n",
    "#url , xpath 初始值設定\n",
    "\n",
    "strUrl = 'https://tw.stock.yahoo.com/q/q?s=' + stockNum\n",
    "\n",
    "strXpath名稱 = '//tr[2]/td[1]/a[1]/text()'\n",
    "\n",
    "strXpath收盤價 = '//tr[2]/td[3]/b/text()'\n",
    "\n",
    "strXpath張數 = '//tr[2]/td[7]/text()'\n",
    "\n",
    "\n",
    "\n",
    "response = requests.get(strUrl)\n",
    "\n",
    "#print(response.text)\n",
    "\n",
    "\n",
    "\n",
    "tree = etree.HTML(response.text)\n",
    "\n",
    "result名稱 = tree.xpath(strXpath名稱)\n",
    "\n",
    "result收盤價 = tree.xpath(strXpath收盤價)\n",
    "\n",
    "result張數 = tree.xpath(strXpath張數)\n",
    "\n",
    "\n",
    "\n",
    "print(result名稱, result收盤價, result張數)"
   ]
  },
  {
   "cell_type": "code",
   "execution_count": 10,
   "metadata": {},
   "outputs": [],
   "source": [
    "class getSTOCKinfo:\n",
    "    def __init__(self,stockNUM):#python conctructor define method\n",
    "        strUrl = 'https://tw.stock.yahoo.com/q/q?s=' + stockNum\n",
    "        res = requests.get(strUrl) #if the var doesn't have self that can not access in member function\n",
    "        self.tree = etree.HTML(res.text)\n",
    "        \n",
    "    def getName(self): #self is  as this in python\n",
    "        strXpath名稱 = '//tr[2]/td[1]/a[1]/text()'\n",
    "        result名稱 = self.tree.xpath(strXpath名稱)\n",
    "        return result名稱\n",
    "    def getPrice(self):\n",
    "        strXpath收盤價 = '//tr[2]/td[3]/b/text()'\n",
    "        result收盤價 = self.tree.xpath(strXpath收盤價)\n",
    "        return result收盤價\n",
    "    def getNum(self):\n",
    "        strXpath名稱 = '//tr[2]/td[1]/a[1]/text()'\n",
    "        result張數 = self.tree.xpath(strXpath張數)\n",
    "        return result張數\n",
    "\n",
    "        "
   ]
  },
  {
   "cell_type": "code",
   "execution_count": 11,
   "metadata": {},
   "outputs": [],
   "source": [
    "stock = getSTOCKinfo('1234')"
   ]
  },
  {
   "cell_type": "code",
   "execution_count": 12,
   "metadata": {},
   "outputs": [
    {
     "data": {
      "text/plain": [
       "['1234黑松']"
      ]
     },
     "execution_count": 12,
     "metadata": {},
     "output_type": "execute_result"
    }
   ],
   "source": [
    "stock.getName()"
   ]
  },
  {
   "cell_type": "code",
   "execution_count": null,
   "metadata": {},
   "outputs": [],
   "source": []
  }
 ],
 "metadata": {
  "kernelspec": {
   "display_name": "Python 3",
   "language": "python",
   "name": "python3"
  },
  "language_info": {
   "codemirror_mode": {
    "name": "ipython",
    "version": 3
   },
   "file_extension": ".py",
   "mimetype": "text/x-python",
   "name": "python",
   "nbconvert_exporter": "python",
   "pygments_lexer": "ipython3",
   "version": "3.6.6"
  }
 },
 "nbformat": 4,
 "nbformat_minor": 2
}
